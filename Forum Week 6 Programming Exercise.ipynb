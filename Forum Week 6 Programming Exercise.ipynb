{
 "cells": [
  {
   "cell_type": "code",
   "execution_count": 73,
   "id": "4490fcc0",
   "metadata": {
    "scrolled": true
   },
   "outputs": [
    {
     "name": "stdout",
     "output_type": "stream",
     "text": [
      "gold = 550\n",
      "pouch = ['flint', 'twine', 'gemstone']\n",
      "backpack = ['bedroll', 'bread loaf', 'xylophone']\n",
      "pocket = ['seashell', 'strange berry', 'lint']\n"
     ]
    }
   ],
   "source": [
    "# No. 1\n",
    "inventory = {\n",
    "    'gold':500,\n",
    "    'pouch':['flint','twine','gemstone'],\n",
    "    'backpack':['xylophone','dagger','bedroll','bread loaf']\n",
    "}\n",
    "inventory['pocket']=['seashell','strange berry','lint']\n",
    "inventory['backpack'].sort()\n",
    "inventory['backpack'].remove('dagger')\n",
    "inventory['gold']+=50\n",
    "for i in inventory:\n",
    "    print(i,\"=\",inventory[i])"
   ]
  },
  {
   "cell_type": "code",
   "execution_count": 12,
   "id": "e7f06f79",
   "metadata": {},
   "outputs": [
    {
     "name": "stdout",
     "output_type": "stream",
     "text": [
      "banana\n",
      "price per item :  4\n",
      "amount of item in stock :  6\n",
      "total from selling all stock :  24\n",
      "------------------------------------\n",
      "apple\n",
      "price per item :  2\n",
      "amount of item in stock :  0\n",
      "total from selling all stock :  0\n",
      "------------------------------------\n",
      "orange\n",
      "price per item :  1.5\n",
      "amount of item in stock :  32\n",
      "total from selling all stock :  48\n",
      "------------------------------------\n",
      "pear\n",
      "price per item :  3\n",
      "amount of item in stock :  15\n",
      "total from selling all stock :  45\n",
      "------------------------------------\n",
      "Total of all sales :  117\n"
     ]
    }
   ],
   "source": [
    "# No. 2\n",
    "prices = {\n",
    "    \"banana\":4,\n",
    "    \"apple\":2,\n",
    "    \"orange\":1.5,\n",
    "    \"pear\":3\n",
    "}\n",
    "stocks = {\n",
    "    \"banana\":6,\n",
    "    \"apple\":0,\n",
    "    \"orange\":32,\n",
    "    \"pear\":15\n",
    "}\n",
    "total = 0\n",
    "for x in prices:\n",
    "    print(x)\n",
    "    print(\"price per item : \",prices[x])\n",
    "    print(\"amount of item in stock : \",stocks[x])\n",
    "    print(\"total from selling all stock : \",int(prices[x]*stocks[x]))\n",
    "    print(\"------------------------------------\")\n",
    "    total = total + (prices[x]*stocks[x])\n",
    "print(\"Total of all sales : \", int(total))"
   ]
  },
  {
   "cell_type": "code",
   "execution_count": 36,
   "id": "c6700521",
   "metadata": {},
   "outputs": [
    {
     "name": "stdout",
     "output_type": "stream",
     "text": [
      "your items : \n",
      "\n",
      "banana\n",
      "apple\n",
      "orange\n",
      "orange\n",
      "orange\n",
      "orange\n",
      "orange\n",
      "banana\n",
      "orange\n",
      "orange\n",
      "apple\n",
      "orange\n",
      "banana\n",
      "banana\n",
      "\n",
      "total items :  14\n",
      "How much you need to pay :  28.0\n"
     ]
    }
   ],
   "source": [
    "# No. 3\n",
    "foodlist = [\"banana\",\"apple\",\"orange\",\"orange\",\"orange\",\"orange\",\"orange\",\"banana\",\"orange\",\"orange\",\"apple\",\"orange\",\"banana\",\"banana\"]\n",
    "stock = {\n",
    "    \"banana\":6,\n",
    "    \"apple\":0,\n",
    "    \"orange\":32,\n",
    "    \"pear\":15\n",
    "}\n",
    "prices = {\n",
    "    \"banana\":4,\n",
    "    \"apple\":2,\n",
    "    \"orange\":1.5,\n",
    "    \"pear\":3\n",
    "}\n",
    "def compute_bill(x):\n",
    "    total = 0\n",
    "    for i in x:\n",
    "        if stock.get(i, 0)>0:\n",
    "            total = total + prices.get(i, 0)\n",
    "            stock[i] -= 1\n",
    "    return total\n",
    "print(\"your items : \")\n",
    "print()\n",
    "for i in foodlist:\n",
    "    print(i)\n",
    "print()\n",
    "print(\"total items : \", len(foodlist))\n",
    "print(\"How much you need to pay : \", compute_bill(foodlist))"
   ]
  },
  {
   "cell_type": "code",
   "execution_count": 72,
   "id": "5a307269",
   "metadata": {},
   "outputs": [
    {
     "name": "stdout",
     "output_type": "stream",
     "text": [
      "Name : Eren\n",
      "Homeworks : [90.0, 97.0, 75.0, 92.0]\n",
      "Quizzes : [88.0, 40.0, 94.0]\n",
      "Tests : [75.0, 90.0]\n",
      "\n",
      "Name : Mikasa\n",
      "Homeworks : [100.0, 92.0, 98.0, 100.0]\n",
      "Quizzes : [82.0, 83.0, 91.0]\n",
      "Tests : [89.0, 97.0]\n",
      "\n",
      "Name : Armin\n",
      "Homeworks : [0.0, 87.0, 75.0, 22.0]\n",
      "Quizzes : [0.0, 75.0, 78.0]\n",
      "Tests : [100.0, 100.0]\n",
      "\n",
      "Eren : C / 79.9\n",
      "Mikasa : C / 79.9\n",
      "Armin : C / 79.9\n",
      "Class Average : C / 79.9\n"
     ]
    }
   ],
   "source": [
    "eren = {\n",
    " \"name\": \"Eren\",\n",
    " \"homework\": [90.0,97.0,75.0,92.0],\n",
    " \"quizzes\": [88.0,40.0,94.0],\n",
    " \"tests\": [75.0,90.0]\n",
    "}\n",
    "mikasa = {\n",
    "\"name\": \"Mikasa\",\n",
    "\"homework\": [100.0, 92.0, 98.0, 100.0],\n",
    "\"quizzes\": [82.0, 83.0, 91.0],\n",
    "\"tests\": [89.0, 97.0]\n",
    "}\n",
    "armin = {\n",
    "\"name\": \"Armin\",\n",
    "\"homework\": [0.0, 87.0, 75.0, 22.0],\n",
    "\"quizzes\": [0.0, 75.0, 78.0],\n",
    "\"tests\": [100.0, 100.0]\n",
    "}\n",
    "students = [\"eren\",\"mikasa\",\"armin\"]\n",
    "for i in students:\n",
    "    print(\"Name :\", eval(i + \"['name']\"))\n",
    "    print(\"Homeworks :\", eval(i + \"['homework']\"))\n",
    "    print(\"Quizzes :\", eval(i + \"['quizzes']\"))\n",
    "    print(\"Tests :\", eval(i + \"['tests']\"))\n",
    "    print()\n",
    "def avg(numbers):\n",
    "    total = 0\n",
    "    total = float(sum(numbers))/len(numbers)\n",
    "    return total\n",
    "def get_avg(student):\n",
    "    homw = avg(eval(i + \"['homework']\"))*0.1\n",
    "    qui = avg(eval(i + \"['quizzes']\"))*0.3\n",
    "    tsts = avg(eval(i + \"['tests']\"))*0.6\n",
    "    return homw+qui+tsts\n",
    "def get_letter_grade(score):\n",
    "    if score >= 90:\n",
    "        return \"A\"\n",
    "    elif score >= 80:\n",
    "        return \"B\"\n",
    "    elif score >= 70:\n",
    "        return \"C\"\n",
    "    elif score >= 60:\n",
    "        return \"B\"\n",
    "    else:\n",
    "        return \"F\"\n",
    "def class_avg(students):\n",
    "    results = []\n",
    "    for i in students:\n",
    "        result = get_avg(i)\n",
    "        results.append(result)\n",
    "    return avg(results)\n",
    "\n",
    "print(\"Eren :\", get_letter_grade(get_avg(\"eren\")), \"/\", get_avg(\"eren\"))\n",
    "print(\"Mikasa :\", get_letter_grade(get_avg(\"mikasa\")), \"/\", get_avg(\"mikasa\"))\n",
    "print(\"Armin :\", get_letter_grade(get_avg(\"armin\")), \"/\", get_avg(\"armin\"))\n",
    "print(\"Class Average :\", get_letter_grade(class_avg(students)), \"/\", class_avg(students))"
   ]
  }
 ],
 "metadata": {
  "kernelspec": {
   "display_name": "Python 3 (ipykernel)",
   "language": "python",
   "name": "python3"
  },
  "language_info": {
   "codemirror_mode": {
    "name": "ipython",
    "version": 3
   },
   "file_extension": ".py",
   "mimetype": "text/x-python",
   "name": "python",
   "nbconvert_exporter": "python",
   "pygments_lexer": "ipython3",
   "version": "3.10.7"
  }
 },
 "nbformat": 4,
 "nbformat_minor": 5
}
